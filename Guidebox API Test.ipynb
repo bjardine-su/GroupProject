{
 "cells": [
  {
   "cell_type": "code",
   "execution_count": 1,
   "metadata": {},
   "outputs": [
    {
     "name": "stdout",
     "output_type": "stream",
     "text": [
      "Requirement already satisfied: guidebox in /opt/conda/lib/python3.7/site-packages (1.0.3)\n",
      "Requirement already satisfied: requests in /opt/conda/lib/python3.7/site-packages (from guidebox) (2.22.0)\n",
      "Requirement already satisfied: chardet<3.1.0,>=3.0.2 in /opt/conda/lib/python3.7/site-packages (from requests->guidebox) (3.0.4)\n",
      "Requirement already satisfied: idna<2.9,>=2.5 in /opt/conda/lib/python3.7/site-packages (from requests->guidebox) (2.8)\n",
      "Requirement already satisfied: urllib3!=1.25.0,!=1.25.1,<1.26,>=1.21.1 in /opt/conda/lib/python3.7/site-packages (from requests->guidebox) (1.24.2)\n",
      "Requirement already satisfied: certifi>=2017.4.17 in /opt/conda/lib/python3.7/site-packages (from requests->guidebox) (2019.6.16)\n"
     ]
    }
   ],
   "source": [
    "# setup - installing guidebox\n",
    "!pip install guidebox"
   ]
  },
  {
   "cell_type": "code",
   "execution_count": 2,
   "metadata": {},
   "outputs": [],
   "source": [
    "# setup - importing programs by alphabetical order\n",
    "import csv\n",
    "import guidebox\n",
    "import json\n",
    "import numpy as np\n",
    "import pandas as pd\n",
    "import requests\n",
    "import warnings\n",
    "warnings.filterwarnings('ignore')"
   ]
  },
  {
   "cell_type": "code",
   "execution_count": 3,
   "metadata": {},
   "outputs": [
    {
     "ename": "FileNotFoundError",
     "evalue": "[Errno 2] No such file or directory: 'wikipedia-iso-country-codes.csv'",
     "output_type": "error",
     "traceback": [
      "\u001b[0;31m---------------------------------------------------------------------------\u001b[0m",
      "\u001b[0;31mFileNotFoundError\u001b[0m                         Traceback (most recent call last)",
      "\u001b[0;32m<ipython-input-3-3741def70d60>\u001b[0m in \u001b[0;36m<module>\u001b[0;34m\u001b[0m\n\u001b[1;32m      1\u001b[0m \u001b[0;31m# importing cvs file to get list of two-letter country codes\u001b[0m\u001b[0;34m\u001b[0m\u001b[0;34m\u001b[0m\u001b[0;34m\u001b[0m\u001b[0m\n\u001b[1;32m      2\u001b[0m \u001b[0mdic\u001b[0m \u001b[0;34m=\u001b[0m \u001b[0;34m{\u001b[0m\u001b[0;34m}\u001b[0m\u001b[0;34m\u001b[0m\u001b[0;34m\u001b[0m\u001b[0m\n\u001b[0;32m----> 3\u001b[0;31m \u001b[0;32mwith\u001b[0m \u001b[0mopen\u001b[0m\u001b[0;34m(\u001b[0m\u001b[0;34m'wikipedia-iso-country-codes.csv'\u001b[0m\u001b[0;34m)\u001b[0m \u001b[0;32mas\u001b[0m \u001b[0mf\u001b[0m\u001b[0;34m:\u001b[0m \u001b[0;31m# opening the file\u001b[0m\u001b[0;34m\u001b[0m\u001b[0;34m\u001b[0m\u001b[0m\n\u001b[0m\u001b[1;32m      4\u001b[0m     \u001b[0mfile\u001b[0m \u001b[0;34m=\u001b[0m \u001b[0mcsv\u001b[0m\u001b[0;34m.\u001b[0m\u001b[0mDictReader\u001b[0m\u001b[0;34m(\u001b[0m\u001b[0mf\u001b[0m\u001b[0;34m,\u001b[0m \u001b[0mdelimiter\u001b[0m\u001b[0;34m=\u001b[0m\u001b[0;34m','\u001b[0m\u001b[0;34m)\u001b[0m\u001b[0;34m\u001b[0m\u001b[0;34m\u001b[0m\u001b[0m\n\u001b[1;32m      5\u001b[0m     \u001b[0;32mfor\u001b[0m \u001b[0mline\u001b[0m \u001b[0;32min\u001b[0m \u001b[0mfile\u001b[0m\u001b[0;34m:\u001b[0m\u001b[0;34m\u001b[0m\u001b[0;34m\u001b[0m\u001b[0m\n",
      "\u001b[0;31mFileNotFoundError\u001b[0m: [Errno 2] No such file or directory: 'wikipedia-iso-country-codes.csv'"
     ]
    }
   ],
   "source": [
    "# importing cvs file to get list of two-letter country codes\n",
    "dic = {}\n",
    "with open('wikipedia-iso-country-codes.csv') as f: # opening the file\n",
    "    file = csv.DictReader(f, delimiter=',')\n",
    "    for line in file:\n",
    "        dic[line['English short name lower case']] = line['Alpha-2 code']\n",
    "        \n",
    "# set region\n",
    "print('Enter the country where you are currently streaming or watching television.')\n",
    "country = input('Where are you watching? ') # user can selection a region\n",
    "try:\n",
    "    dic[country] # if the user entered a valid region, then there should be a corresponding key-value pair\n",
    "    guidebox.region = \"%s\" % (dic[country]) # setting the matching value - the two-letter country code - as the region\n",
    "    print('The region is set as: %s' % (guidebox.region))\n",
    "except KeyError:\n",
    "    print('That is not a valid region. Please try again.')"
   ]
  },
  {
   "cell_type": "code",
   "execution_count": null,
   "metadata": {},
   "outputs": [],
   "source": [
    "#api key\n",
    "guidebox.api_key = 'b6b51fbc578321cbd4966880cbce6ea9537a9ce4'"
   ]
  },
  {
   "cell_type": "code",
   "execution_count": null,
   "metadata": {},
   "outputs": [],
   "source": [
    "# example request - movies and only 3 results\n",
    "# guidebox outputs do not need to be de-serialized because they are already in .json format\n",
    "# results are listed by popularity\n",
    "movies = guidebox.Movie.list(limit=10) \n",
    "\n",
    "# extracting data from variable movies to put into a legible format \n",
    "# initilazing variables\n",
    "data = {}\n",
    "titles = []\n",
    "ratings = []\n",
    "release_dates = []\n",
    "theaters = []\n",
    "i = 0\n",
    "\n",
    "#for loop to read through the json object and assign words to lists\n",
    "for i in range(0,10):\n",
    "    titles.append(movies['results'][i]['original_title'])\n",
    "    ratings.append(movies['results'][i]['rating'])\n",
    "    release_dates.append(movies['results'][i]['release_date'])\n",
    "    theaters.append(movies['results'][i]['in_theaters'])\n",
    "    i += 1\n",
    "\n",
    "#creating key-value pairs\n",
    "data = {'Titiles': titles, 'Rating': ratings, 'Release Date': release_dates, 'Still in Theaters?': theaters}\n",
    "\n",
    "#creating a dataframe and printing the dataframe\n",
    "data_df = pd.DataFrame(data)\n",
    "data_df"
   ]
  },
  {
   "cell_type": "code",
   "execution_count": null,
   "metadata": {},
   "outputs": [],
   "source": [
    "# example request - shows from a specific channel and only 10 results\n",
    "# this function would be used in conjunction with the TV DB API\n",
    "channel = input('What channel would you like to view? ') # user enters channel name\n",
    "shows = guidebox.Show.list(channel=channel, limit=10)\n",
    "\n",
    "data2 = {}\n",
    "titles2 = []\n",
    "id = []\n",
    "i = 0\n",
    "\n",
    "#for loop to read through the json object and assign words to lists\n",
    "for i in range(0,10):\n",
    "    titles2.append(shows['results'][i]['title'])\n",
    "    id.append(shows['results'][i]['id'])\n",
    "    i += 1\n",
    "    \n",
    "#creating key-value pairs\n",
    "data2 = {'Titles': titles2, 'Show ID': id}\n",
    "\n",
    "#creating a dataframe and printing the dataframe\n",
    "data_df2 = pd.DataFrame(data2)\n",
    "data_df2"
   ]
  },
  {
   "cell_type": "code",
   "execution_count": null,
   "metadata": {
    "scrolled": false
   },
   "outputs": [],
   "source": [
    "# example request - retrieve a single show\n",
    "show = guidebox.Show.retrieve(id=1253)\n",
    "show_data = {'Title': show['title'], 'Genre': show['genres'][0]['title'], 'Synopsis': show['overview'], \n",
    "             'Channel': show['channels'][0]['name'], 'Air Date': show['air_day_of_week'], \n",
    "             'Air Time': show['air_time']}\n",
    "index = [0]\n",
    "show_df = pd.DataFrame(show_data, index)\n",
    "show_df"
   ]
  },
  {
   "cell_type": "code",
   "execution_count": null,
   "metadata": {},
   "outputs": [],
   "source": [
    "# testing search function - returns a list of titles that match the query\n",
    "title = input('What is the name of the film you are looking for? ')\n",
    "results = guidebox.Search.movies(field='title', query=title)\n",
    "results"
   ]
  }
 ],
 "metadata": {
  "kernelspec": {
   "display_name": "Python 3",
   "language": "python",
   "name": "python3"
  },
  "language_info": {
   "codemirror_mode": {
    "name": "ipython",
    "version": 3
   },
   "file_extension": ".py",
   "mimetype": "text/x-python",
   "name": "python",
   "nbconvert_exporter": "python",
   "pygments_lexer": "ipython3",
   "version": "3.7.3"
  }
 },
 "nbformat": 4,
 "nbformat_minor": 2
}
