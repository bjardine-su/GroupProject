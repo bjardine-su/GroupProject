{
 "cells": [
  {
   "cell_type": "code",
   "execution_count": 3,
   "metadata": {},
   "outputs": [
    {
     "name": "stdout",
     "output_type": "stream",
     "text": [
      "Collecting guidebox\n",
      "  Downloading https://files.pythonhosted.org/packages/3f/48/3d3b1fe5fa9665954256aa25f93d411c295a4d8a51def777bb3d660f4aec/guidebox-1.0.3.tar.gz\n",
      "Requirement already satisfied: requests in /opt/conda/lib/python3.7/site-packages (from guidebox) (2.22.0)\n",
      "Requirement already satisfied: urllib3!=1.25.0,!=1.25.1,<1.26,>=1.21.1 in /opt/conda/lib/python3.7/site-packages (from requests->guidebox) (1.24.2)\n",
      "Requirement already satisfied: idna<2.9,>=2.5 in /opt/conda/lib/python3.7/site-packages (from requests->guidebox) (2.8)\n",
      "Requirement already satisfied: certifi>=2017.4.17 in /opt/conda/lib/python3.7/site-packages (from requests->guidebox) (2019.6.16)\n",
      "Requirement already satisfied: chardet<3.1.0,>=3.0.2 in /opt/conda/lib/python3.7/site-packages (from requests->guidebox) (3.0.4)\n",
      "Building wheels for collected packages: guidebox\n",
      "  Building wheel for guidebox (setup.py) ... \u001b[?25ldone\n",
      "\u001b[?25h  Stored in directory: /home/jovyan/.cache/pip/wheels/01/ea/bf/c47f0855a524c634d1a14ad6718488acb6d6d213af63eb2c96\n",
      "Successfully built guidebox\n",
      "Installing collected packages: guidebox\n",
      "Successfully installed guidebox-1.0.3\n"
     ]
    }
   ],
   "source": [
    "!pip install guidebox\n",
    "\n",
    "import csv\n",
    "import guidebox\n",
    "import json\n",
    "import pandas as pd\n",
    "import requests"
   ]
  },
  {
   "cell_type": "code",
   "execution_count": 4,
   "metadata": {},
   "outputs": [],
   "source": [
    "guidebox.api_key = 'b6b51fbc578321cbd4966880cbce6ea9537a9ce4'"
   ]
  },
  {
   "cell_type": "code",
   "execution_count": 5,
   "metadata": {},
   "outputs": [
    {
     "name": "stdout",
     "output_type": "stream",
     "text": [
      "Enter the name of the channel you would like to view: hbo\n",
      "               Titles First Air Date    IMDb ID\n",
      "0  His Dark Materials     2019-10-03  tt5607976\n",
      "1            Watchmen     2019-09-09  tt7049682\n",
      "2     Game of Thrones     2011-04-17  tt0944947\n",
      "3      Silicon Valley     2014-04-06  tt2575988\n",
      "4           Westworld     2016-10-02  tt0475784\n",
      "5        The Sopranos     1999-01-10  tt0141842\n",
      "6      True Detective     2014-01-12  tt2356777\n",
      "7            The Wire     2002-06-02  tt0306414\n",
      "8          True Blood     2008-09-07  tt0844441\n",
      "9       The Leftovers     2014-06-30  tt2699128\n",
      "\n"
     ]
    }
   ],
   "source": [
    "channel = input('Enter the name of the channel you would like to view: ')\n",
    "#try:\n",
    "channel_shows = guidebox.Show.list(channel=channel, limit=10)\n",
    "channel_dic = {}\n",
    "channel_titles = []\n",
    "channel_date = []\n",
    "channel_id = []\n",
    "i = 0\n",
    "\n",
    "#for loop to read through the json object and assign words to lists\n",
    "for i in range(0,10):\n",
    "    channel_titles.append(channel_shows['results'][i]['title'])\n",
    "    channel_date.append(channel_shows['results'][i]['first_aired'])\n",
    "    channel_id.append(channel_shows['results'][i]['imdb_id'])\n",
    "    i += 1\n",
    "\n",
    "#creating key-value pairs\n",
    "channel_dic = {'Titles': channel_titles, 'First Air Date': channel_date, 'IMDb ID': channel_id}\n",
    "#creating a dataframe and printing the dataframe\n",
    "channel_df = pd.DataFrame(channel_dic)\n",
    "print(channel_df)\n",
    "print('')\n",
    "channel_dic.clear()\n",
    "#except:\n",
    "#print('%s is not a valid entry. Please try again.' % (channel))"
   ]
  }
 ],
 "metadata": {
  "kernelspec": {
   "display_name": "Python 3",
   "language": "python",
   "name": "python3"
  },
  "language_info": {
   "codemirror_mode": {
    "name": "ipython",
    "version": 3
   },
   "file_extension": ".py",
   "mimetype": "text/x-python",
   "name": "python",
   "nbconvert_exporter": "python",
   "pygments_lexer": "ipython3",
   "version": "3.7.3"
  }
 },
 "nbformat": 4,
 "nbformat_minor": 2
}
